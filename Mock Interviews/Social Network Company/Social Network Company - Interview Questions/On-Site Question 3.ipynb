{
 "cells": [
  {
   "cell_type": "markdown",
   "metadata": {},
   "source": [
    "# On-Site Question 3 \n",
    "\n",
    "## Problem\n",
    "\n",
    "** Create a function that takes in a list of unsorted prices (integers) and a maximum possible price value, and return a sorted list of prices**\n",
    "\n",
    "## Requirements\n",
    "\n",
    "** Your function should be able to perform this in less than O(nlogn) time. **"
   ]
  },
  {
   "cell_type": "markdown",
   "metadata": {},
   "source": [
    "# Good Luck!"
   ]
  },
  {
   "cell_type": "code",
   "execution_count": 5,
   "metadata": {
    "collapsed": true
   },
   "outputs": [],
   "source": [
    "def mergesort(lst):\n",
    "    \n",
    "    if (len(lst)<2):\n",
    "        return lst\n",
    "    else:\n",
    "        middle = len(lst)//2\n",
    "        left = mergesort(lst[:middle])\n",
    "        right = mergesort(lst[middle:])\n",
    "        \n",
    "        result = []\n",
    "        i,j = 0,0\n",
    "        while(len(result) < (len(left) + len(right))):\n",
    "            if(left[i] < right[j]):\n",
    "                result.append(left[i])\n",
    "                i += 1\n",
    "            elif(left[i] > right[j]):\n",
    "                result.append(right[j])\n",
    "                j += 1\n",
    "            elif(left[i] == right[j]):\n",
    "                result.append(left[i])\n",
    "                i += 1\n",
    "                result.append(right[j])\n",
    "                j += 1\n",
    "            if(i == len(left) or j == len(right)):\n",
    "                result.extend(right[j:]) or result.extend(left[i:])\n",
    "        return result"
   ]
  },
  {
   "cell_type": "code",
   "execution_count": 6,
   "metadata": {
    "collapsed": false,
    "scrolled": true
   },
   "outputs": [
    {
     "data": {
      "text/plain": [
       "[-32, -12, -3, 0, 1, 1, 2, 3, 5, 5, 23, 23, 56]"
      ]
     },
     "execution_count": 6,
     "metadata": {},
     "output_type": "execute_result"
    }
   ],
   "source": [
    "mergesort([3,1,5,2,5,23,56,23,-12,-3,-32,1,0])"
   ]
  }
 ],
 "metadata": {
  "anaconda-cloud": {},
  "kernelspec": {
   "display_name": "Python [conda root]",
   "language": "python",
   "name": "conda-root-py"
  },
  "language_info": {
   "codemirror_mode": {
    "name": "ipython",
    "version": 3
   },
   "file_extension": ".py",
   "mimetype": "text/x-python",
   "name": "python",
   "nbconvert_exporter": "python",
   "pygments_lexer": "ipython3",
   "version": "3.5.2"
  }
 },
 "nbformat": 4,
 "nbformat_minor": 0
}
