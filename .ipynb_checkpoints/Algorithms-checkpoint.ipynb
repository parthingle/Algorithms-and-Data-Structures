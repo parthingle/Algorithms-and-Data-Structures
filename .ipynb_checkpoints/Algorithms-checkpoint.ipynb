{
 "cells": [
  {
   "cell_type": "code",
   "execution_count": 1,
   "metadata": {
    "collapsed": false
   },
   "outputs": [],
   "source": [
    "def anagram2 (s1, s2):\n",
    "    s1 = s1.replace(' ', '').lower()\n",
    "    s2 = s2.replace(' ', '').lower()\n",
    "    \n",
    "    #Edge case test\n",
    "    \n",
    "    if(len(s1) != len(s2)):\n",
    "        return False\n",
    "    count = {}\n",
    "    for letter in s1:\n",
    "        if (letter in count):\n",
    "            count[letter] +=1\n",
    "        else:\n",
    "            count[letter] = 1\n",
    "    for letter in s2:\n",
    "        if(letter in count):\n",
    "            count[letter]-=1\n",
    "        else:\n",
    "            count[letter] = 1\n",
    "    \n",
    "    for k in count:\n",
    "        if count[k]!=0:\n",
    "            return False\n",
    "    return True"
   ]
  },
  {
   "cell_type": "code",
   "execution_count": 2,
   "metadata": {
    "collapsed": false
   },
   "outputs": [
    {
     "data": {
      "text/plain": [
       "True"
      ]
     },
     "execution_count": 2,
     "metadata": {},
     "output_type": "execute_result"
    }
   ],
   "source": [
    "anagram2('Resistance', 'Ancestries')"
   ]
  },
  {
   "cell_type": "code",
   "execution_count": 3,
   "metadata": {
    "collapsed": true
   },
   "outputs": [],
   "source": [
    "def finder(a1, a2):\n",
    "    a1.sort()\n",
    "    a2.sort()\n",
    "    \n",
    "    if (len(a1)>len(a2)):\n",
    "        for i in range(len(a1)):\n",
    "            if (a1[i] not in a2):\n",
    "                return a1[i]\n",
    "    else:\n",
    "        for i in range(len(a2)):\n",
    "            if(a2[i] not in a1):\n",
    "                return a2[i]"
   ]
  },
  {
   "cell_type": "code",
   "execution_count": 4,
   "metadata": {
    "collapsed": false
   },
   "outputs": [
    {
     "data": {
      "text/plain": [
       "5"
      ]
     },
     "execution_count": 4,
     "metadata": {},
     "output_type": "execute_result"
    }
   ],
   "source": [
    "finder([1,2,3,4,5,6,7],[1,2,3,4,6,7])"
   ]
  },
  {
   "cell_type": "code",
   "execution_count": 5,
   "metadata": {
    "collapsed": false
   },
   "outputs": [],
   "source": [
    "def finder2(a1, a2):\n",
    "    s1 = 0\n",
    "    s2 = 0\n",
    "    \n",
    "    for i in range(len(a1)):\n",
    "        s1+=a1[i]\n",
    "        \n",
    "    for i in range(len(a2)):\n",
    "        s2+=a2[i]\n",
    "    \n",
    "    if(s1>s2):\n",
    "        s = s1 - s2\n",
    "    else:\n",
    "        s = s2 -s1\n",
    "        \n",
    "    return s"
   ]
  },
  {
   "cell_type": "code",
   "execution_count": 6,
   "metadata": {
    "collapsed": false
   },
   "outputs": [
    {
     "data": {
      "text/plain": [
       "5"
      ]
     },
     "execution_count": 6,
     "metadata": {},
     "output_type": "execute_result"
    }
   ],
   "source": [
    "finder2([1,2,3,4,5,6,7],[1,2,3,4,6,7])"
   ]
  },
  {
   "cell_type": "code",
   "execution_count": 7,
   "metadata": {
    "collapsed": true
   },
   "outputs": [],
   "source": [
    "def largest_cont_sum(arr):\n",
    "    \n",
    "    if(len(arr) == 0):\n",
    "        return 0\n",
    "    \n",
    "    curr_sum = max_sum = arr[0]\n",
    "    \n",
    "    for i in arr[1:]:\n",
    "        curr_sum = max(curr_sum+i, i)\n",
    "        max_sum = max(curr_sum, max_sum)\n",
    "    \n",
    "    return max_sum"
   ]
  },
  {
   "cell_type": "code",
   "execution_count": 8,
   "metadata": {
    "collapsed": false,
    "scrolled": true
   },
   "outputs": [
    {
     "data": {
      "text/plain": [
       "29"
      ]
     },
     "execution_count": 8,
     "metadata": {},
     "output_type": "execute_result"
    }
   ],
   "source": [
    "largest_cont_sum([1,2,-1,3,4,10,10,-10,-1])"
   ]
  },
  {
   "cell_type": "code",
   "execution_count": 9,
   "metadata": {
    "collapsed": true
   },
   "outputs": [],
   "source": [
    "def sentence_rev(s):\n",
    "    return \" \".join(reversed(s.split()))"
   ]
  },
  {
   "cell_type": "code",
   "execution_count": 10,
   "metadata": {
    "collapsed": false
   },
   "outputs": [
    {
     "data": {
      "text/plain": [
       "'Parth is name My'"
      ]
     },
     "execution_count": 10,
     "metadata": {},
     "output_type": "execute_result"
    }
   ],
   "source": [
    "sentence_rev(\"My name is Parth\")"
   ]
  },
  {
   "cell_type": "code",
   "execution_count": 11,
   "metadata": {
    "collapsed": false
   },
   "outputs": [],
   "source": [
    "def sentence_rev2(s):\n",
    "    \n",
    "    words = []\n",
    "    spaces = [' ']\n",
    "    i = 0\n",
    "    l = len(s)\n",
    "    \n",
    "    while(i<l):\n",
    "        if(s[i]not in spaces):\n",
    "            start = i\n",
    "            while(i<l and s[i] not in spaces):\n",
    "                i+=1\n",
    "            word = s[start:i]\n",
    "            words.append(word)\n",
    "        i+=1\n",
    "   \n",
    "    \n",
    "    \n",
    "    \n",
    "    return \" \".join(reversed(words))"
   ]
  },
  {
   "cell_type": "code",
   "execution_count": 12,
   "metadata": {
    "collapsed": false
   },
   "outputs": [
    {
     "data": {
      "text/plain": [
       "'Parth is name My'"
      ]
     },
     "execution_count": 12,
     "metadata": {},
     "output_type": "execute_result"
    }
   ],
   "source": [
    "sentence_rev2(\"My name is Parth\")"
   ]
  },
  {
   "cell_type": "code",
   "execution_count": 13,
   "metadata": {
    "collapsed": true
   },
   "outputs": [],
   "source": [
    "def compress(s):\n",
    "    \n",
    "    l = len(s)\n",
    "    i = 0\n",
    "    final = []\n",
    "    \n",
    "    while(i<l):\n",
    "        a = s[i]\n",
    "        i+=1\n",
    "        cnt = 1\n",
    "        while(i<l and s[i] == a):\n",
    "            i+=1\n",
    "            cnt+=1\n",
    "        final.append(a+str(cnt))\n",
    "    return \"\".join(final)\n",
    "            \n",
    "    "
   ]
  },
  {
   "cell_type": "code",
   "execution_count": 14,
   "metadata": {
    "collapsed": false
   },
   "outputs": [
    {
     "data": {
      "text/plain": [
       "'A3a2'"
      ]
     },
     "execution_count": 14,
     "metadata": {},
     "output_type": "execute_result"
    }
   ],
   "source": [
    "compress(\"AAAaa\")"
   ]
  },
  {
   "cell_type": "code",
   "execution_count": 15,
   "metadata": {
    "collapsed": true
   },
   "outputs": [],
   "source": [
    "def uniq_char(s):#dumb solution\n",
    "    return (len(set(s)) == len(s))"
   ]
  },
  {
   "cell_type": "code",
   "execution_count": 16,
   "metadata": {
    "collapsed": false
   },
   "outputs": [
    {
     "data": {
      "text/plain": [
       "False"
      ]
     },
     "execution_count": 16,
     "metadata": {},
     "output_type": "execute_result"
    }
   ],
   "source": [
    "uniq_char('abcdaefg')"
   ]
  },
  {
   "cell_type": "code",
   "execution_count": 17,
   "metadata": {
    "collapsed": true
   },
   "outputs": [],
   "source": [
    "def uniq_char2(s):\n",
    "    \n",
    "    chars = set()\n",
    "    \n",
    "    for letter in s:\n",
    "        if letter in chars:\n",
    "            return False\n",
    "        else:\n",
    "            chars.add(letter)\n",
    "    \n",
    "    return True"
   ]
  },
  {
   "cell_type": "code",
   "execution_count": 18,
   "metadata": {
    "collapsed": false
   },
   "outputs": [
    {
     "data": {
      "text/plain": [
       "False"
      ]
     },
     "execution_count": 18,
     "metadata": {},
     "output_type": "execute_result"
    }
   ],
   "source": [
    "uniq_char('abcadef')"
   ]
  },
  {
   "cell_type": "code",
   "execution_count": 19,
   "metadata": {
    "collapsed": true
   },
   "outputs": [],
   "source": [
    "class Stack():\n",
    "    def __init__(self):\n",
    "        self.items = []\n",
    "    \n",
    "    def isEmpty(self):\n",
    "        return (self.items == [])\n",
    "    \n",
    "    def push(self, elem):\n",
    "        self.items.append(elem)\n",
    "        \n",
    "    def pop(self):\n",
    "        return self.items.pop()\n",
    "    \n",
    "    def peek(self):\n",
    "        return self.items[len(self.items) - 1]\n",
    "    \n",
    "    def size(self):\n",
    "        return len(self.items)\n",
    "    \n",
    "    \n",
    "        \n",
    "    \n",
    "        "
   ]
  },
  {
   "cell_type": "code",
   "execution_count": 20,
   "metadata": {
    "collapsed": false
   },
   "outputs": [
    {
     "name": "stdout",
     "output_type": "stream",
     "text": [
      "5\n"
     ]
    },
    {
     "data": {
      "text/plain": [
       "4"
      ]
     },
     "execution_count": 20,
     "metadata": {},
     "output_type": "execute_result"
    }
   ],
   "source": [
    "s = Stack()\n",
    "\n",
    "s.push(5)\n",
    "\n",
    "print (s.peek())\n",
    "\n",
    "s.push(17)\n",
    "s.push(3)\n",
    "s.push(4)\n",
    "\n",
    "s.size()"
   ]
  },
  {
   "cell_type": "code",
   "execution_count": 21,
   "metadata": {
    "collapsed": true
   },
   "outputs": [],
   "source": [
    "# def balance(sr):\n",
    "    \n",
    "#     if (len(s)%2 != 0):\n",
    "#         return False\n",
    "#     openings = set('([{')\n",
    "#     markings = set([ ('(', ')'), ('[',']'), ('{', '}') ])\n",
    "#     s = Stack()\n",
    "    \n",
    "#     for i in range (len(sr)):\n",
    "#         if(sr[i] in openings):\n",
    "#             s.push(sr[i])\n",
    "    \n",
    "# #     while(!s.isEmpty()):\n",
    "        "
   ]
  },
  {
   "cell_type": "code",
   "execution_count": 22,
   "metadata": {
    "collapsed": false
   },
   "outputs": [],
   "source": [
    "def rec_factorial(n):\n",
    "    if(n == 1 or n == 0):\n",
    "        return 1\n",
    "    \n",
    "    return (n*(rec_factorial(n-1)))"
   ]
  },
  {
   "cell_type": "code",
   "execution_count": 23,
   "metadata": {
    "collapsed": false
   },
   "outputs": [
    {
     "name": "stdout",
     "output_type": "stream",
     "text": [
      "6\n"
     ]
    }
   ],
   "source": [
    "print(rec_factorial(3))"
   ]
  },
  {
   "cell_type": "code",
   "execution_count": 24,
   "metadata": {
    "collapsed": true
   },
   "outputs": [],
   "source": [
    "def full_sum(n):\n",
    "    if (n == 0):\n",
    "        return 0\n",
    "    if (n == 1):\n",
    "        return 1\n",
    "    \n",
    "    return (n+full_sum(n-1))\n"
   ]
  },
  {
   "cell_type": "code",
   "execution_count": 25,
   "metadata": {
    "collapsed": false
   },
   "outputs": [
    {
     "data": {
      "text/plain": [
       "55"
      ]
     },
     "execution_count": 25,
     "metadata": {},
     "output_type": "execute_result"
    }
   ],
   "source": [
    "full_sum(10)"
   ]
  },
  {
   "cell_type": "code",
   "execution_count": 26,
   "metadata": {
    "collapsed": true
   },
   "outputs": [],
   "source": [
    "def dig_sum(n):\n",
    "    \n",
    "    if(n//10 == 0):\n",
    "        return n\n",
    "    return (n%10 + dig_sum(n//10))"
   ]
  },
  {
   "cell_type": "code",
   "execution_count": 27,
   "metadata": {
    "collapsed": false
   },
   "outputs": [
    {
     "data": {
      "text/plain": [
       "10"
      ]
     },
     "execution_count": 27,
     "metadata": {},
     "output_type": "execute_result"
    }
   ],
   "source": [
    "dig_sum(1234)"
   ]
  },
  {
   "cell_type": "code",
   "execution_count": 28,
   "metadata": {
    "collapsed": true
   },
   "outputs": [],
   "source": [
    "def reverse(s):\n",
    "    \n",
    "    if(len(s) == 1):\n",
    "        return s\n",
    "    \n",
    "    return (s[-1]+reverse(s[:-1]))"
   ]
  },
  {
   "cell_type": "code",
   "execution_count": 29,
   "metadata": {
    "collapsed": false
   },
   "outputs": [
    {
     "name": "stdout",
     "output_type": "stream",
     "text": [
      "htrap\n",
      "a\n",
      "!dlrow ,olleH\n"
     ]
    }
   ],
   "source": [
    "print(reverse(\"parth\"))\n",
    "print(reverse(\"a\"))\n",
    "print(reverse(\"Hello, world!\"))"
   ]
  },
  {
   "cell_type": "code",
   "execution_count": 30,
   "metadata": {
    "collapsed": true
   },
   "outputs": [],
   "source": [
    "def permute(s):\n",
    "    \n",
    "    out = []\n",
    "    if (len(s) == 1):\n",
    "        return [s]\n",
    "    \n",
    "    else:\n",
    "        for i,let in enumerate(s):\n",
    "            for perm in permute(s[:i] + s[i+1:]):\n",
    "                out += [let+perm]\n",
    "    \n",
    "    return out"
   ]
  },
  {
   "cell_type": "code",
   "execution_count": 31,
   "metadata": {
    "collapsed": false
   },
   "outputs": [
    {
     "data": {
      "text/plain": [
       "['abc', 'acb', 'bac', 'bca', 'cab', 'cba']"
      ]
     },
     "execution_count": 31,
     "metadata": {},
     "output_type": "execute_result"
    }
   ],
   "source": [
    "permute('abc')"
   ]
  },
  {
   "cell_type": "code",
   "execution_count": 32,
   "metadata": {
    "collapsed": true
   },
   "outputs": [],
   "source": [
    "def fib_rec(n):\n",
    "    \n",
    "    if (n < 2 ):\n",
    "        return (n)\n",
    "    else:\n",
    "        return (fib_rec(n-1) + fib_rec(n-2))"
   ]
  },
  {
   "cell_type": "code",
   "execution_count": 33,
   "metadata": {
    "collapsed": false
   },
   "outputs": [
    {
     "data": {
      "text/plain": [
       "3"
      ]
     },
     "execution_count": 33,
     "metadata": {},
     "output_type": "execute_result"
    }
   ],
   "source": [
    "fib_rec(4)"
   ]
  },
  {
   "cell_type": "code",
   "execution_count": 34,
   "metadata": {
    "collapsed": false
   },
   "outputs": [
    {
     "name": "stdout",
     "output_type": "stream",
     "text": [
      "Length:   0; Size in bytes:   64\n",
      "Length:   1; Size in bytes:   96\n",
      "Length:   2; Size in bytes:   96\n",
      "Length:   3; Size in bytes:   96\n",
      "Length:   4; Size in bytes:   96\n",
      "Length:   5; Size in bytes:  128\n",
      "Length:   6; Size in bytes:  128\n",
      "Length:   7; Size in bytes:  128\n",
      "Length:   8; Size in bytes:  128\n",
      "Length:   9; Size in bytes:  192\n"
     ]
    }
   ],
   "source": [
    "import sys\n",
    "n = 10\n",
    "data = []\n",
    "\n",
    "for i in range (n):\n",
    "    a = len(data)\n",
    "    b = sys.getsizeof(data)\n",
    "    \n",
    "    print ('Length: {0:3d}; Size in bytes: {1:4d}'.format(a,b))\n",
    "    data.append(n)"
   ]
  },
  {
   "cell_type": "code",
   "execution_count": 35,
   "metadata": {
    "collapsed": true
   },
   "outputs": [],
   "source": [
    "class Node(object):\n",
    "    def __init__(self, value):\n",
    "        self.value = value\n",
    "        self.nextnode = None\n",
    "class LL(object):\n",
    "    def __init__(self, value):\n",
    "        self.head = Node(value)\n",
    "        self.head.nextnode = None\n",
    "    def insert(self, value):\n",
    "        a = Node(value)\n",
    "        a.nextnode = head\n",
    "        \n",
    "        \n",
    "        "
   ]
  },
  {
   "cell_type": "code",
   "execution_count": 36,
   "metadata": {
    "collapsed": false
   },
   "outputs": [],
   "source": [
    "a = Node(1)\n",
    "b = Node(2)\n",
    "c = Node(3)\n",
    "\n",
    "a.nextnode = b\n",
    "b.nextnode = c\n"
   ]
  },
  {
   "cell_type": "code",
   "execution_count": 37,
   "metadata": {
    "collapsed": false
   },
   "outputs": [
    {
     "data": {
      "text/plain": [
       "2"
      ]
     },
     "execution_count": 37,
     "metadata": {},
     "output_type": "execute_result"
    }
   ],
   "source": [
    "a.value\n",
    "a.nextnode.value"
   ]
  },
  {
   "cell_type": "code",
   "execution_count": 38,
   "metadata": {
    "collapsed": false
   },
   "outputs": [],
   "source": [
    "class Node2(object):\n",
    "    def __init__(self, value):\n",
    "        self.value = value\n",
    "        self.nxt = None\n",
    "        self.prev = None"
   ]
  },
  {
   "cell_type": "code",
   "execution_count": 39,
   "metadata": {
    "collapsed": true
   },
   "outputs": [],
   "source": [
    "d = Node(1)\n",
    "e = Node(2)\n",
    "f = Node(3)\n",
    "\n",
    "d.nxt = e\n",
    "e.nxt = f\n",
    "e.prev = d\n",
    "f.prev = e\n"
   ]
  },
  {
   "cell_type": "code",
   "execution_count": 40,
   "metadata": {
    "collapsed": false
   },
   "outputs": [],
   "source": [
    "def reverse(s):\n",
    "    if (len(s) == 1):\n",
    "        return (s)\n",
    "    else:\n",
    "        return(s[-1]+ reverse(s[:-1]))"
   ]
  },
  {
   "cell_type": "code",
   "execution_count": 41,
   "metadata": {
    "collapsed": false
   },
   "outputs": [
    {
     "data": {
      "text/plain": [
       "'htraP'"
      ]
     },
     "execution_count": 41,
     "metadata": {},
     "output_type": "execute_result"
    }
   ],
   "source": [
    "reverse('Parth')"
   ]
  },
  {
   "cell_type": "code",
   "execution_count": 42,
   "metadata": {
    "collapsed": false
   },
   "outputs": [],
   "source": [
    "def sqrt(n):\n",
    "    if (n<0):\n",
    "        raise ValueError\n",
    "    else:\n",
    "        for i in range (n//2):\n",
    "            if (i*i == n):\n",
    "                return i\n",
    "            elif(i*i > n):\n",
    "                return (i-1)"
   ]
  },
  {
   "cell_type": "code",
   "execution_count": 43,
   "metadata": {
    "collapsed": false
   },
   "outputs": [
    {
     "data": {
      "text/plain": [
       "3"
      ]
     },
     "execution_count": 43,
     "metadata": {},
     "output_type": "execute_result"
    }
   ],
   "source": [
    "sqrt(9)"
   ]
  },
  {
   "cell_type": "code",
   "execution_count": 44,
   "metadata": {
    "collapsed": true
   },
   "outputs": [],
   "source": [
    "def highest_product(l):\n",
    "    \n",
    "    migh = max(l[0], l[1])\n",
    "    \n",
    "    low = min(l[0], l[1])\n",
    "    \n",
    "    high_prod2 = l[0] * l[1]\n",
    "    low_prod = l[0]*l[1]\n",
    "    \n",
    "    high_prod = l[0]*l[1]*l[2]\n",
    "    \n",
    "    \n",
    "    for n in l[2:]:\n",
    "        high"
   ]
  },
  {
   "cell_type": "code",
   "execution_count": 45,
   "metadata": {
    "collapsed": false
   },
   "outputs": [],
   "source": [
    "def reverse_rec(s):\n",
    "    if (len(s)<=1):\n",
    "        return (s)\n",
    "    return (s[-1] + reverse_rec(s[:-1]))"
   ]
  },
  {
   "cell_type": "code",
   "execution_count": 46,
   "metadata": {
    "collapsed": false,
    "scrolled": true
   },
   "outputs": [
    {
     "data": {
      "text/plain": [
       "'htraP'"
      ]
     },
     "execution_count": 46,
     "metadata": {},
     "output_type": "execute_result"
    }
   ],
   "source": [
    "reverse_rec('Parth')"
   ]
  },
  {
   "cell_type": "code",
   "execution_count": 47,
   "metadata": {
    "collapsed": false,
    "scrolled": true
   },
   "outputs": [],
   "source": [
    "def seq_search_unordered(lst, elem):\n",
    "    for i in range(len(lst)):\n",
    "        if (elem == lst[i]):\n",
    "            return True\n",
    "    return False"
   ]
  },
  {
   "cell_type": "code",
   "execution_count": 48,
   "metadata": {
    "collapsed": false,
    "scrolled": true
   },
   "outputs": [
    {
     "data": {
      "text/plain": [
       "False"
      ]
     },
     "execution_count": 48,
     "metadata": {},
     "output_type": "execute_result"
    }
   ],
   "source": [
    "seq_search_unordered([1,2,3,4,5],74)"
   ]
  },
  {
   "cell_type": "code",
   "execution_count": 49,
   "metadata": {
    "collapsed": true
   },
   "outputs": [],
   "source": [
    "def seq_search_ordered(lst, elem):\n",
    "    for i in range(len(lst)):\n",
    "        if(lst[i] == elem):\n",
    "            return True\n",
    "        if(lst[i]>elem):\n",
    "            return False\n",
    "    return False"
   ]
  },
  {
   "cell_type": "code",
   "execution_count": 50,
   "metadata": {
    "collapsed": false
   },
   "outputs": [
    {
     "data": {
      "text/plain": [
       "False"
      ]
     },
     "execution_count": 50,
     "metadata": {},
     "output_type": "execute_result"
    }
   ],
   "source": [
    "seq_search_ordered([1,2,3,4,5], 6)"
   ]
  },
  {
   "cell_type": "code",
   "execution_count": 51,
   "metadata": {
    "collapsed": true
   },
   "outputs": [],
   "source": [
    "def bin_search(lst, elem):\n",
    "    if(len(lst) == 0):\n",
    "        return False\n",
    "    if(len(lst) == 1):\n",
    "        return (elem == lst[0])\n",
    "    if(len(lst)>1):\n",
    "        \n",
    "        first = 0\n",
    "        last = len(lst) - 1\n",
    "        \n",
    "        found = False\n",
    "        \n",
    "        while(first<=last and found == False):\n",
    "            mid = (first+last)//2\n",
    "            \n",
    "            if(lst[mid] == elem):\n",
    "                found = True\n",
    "            else:\n",
    "                if(elem < lst[mid]):\n",
    "                    last = mid -1\n",
    "                else:\n",
    "                    first = mid +1\n",
    "        return found\n",
    "        "
   ]
  },
  {
   "cell_type": "code",
   "execution_count": 52,
   "metadata": {
    "collapsed": false
   },
   "outputs": [
    {
     "data": {
      "text/plain": [
       "True"
      ]
     },
     "execution_count": 52,
     "metadata": {},
     "output_type": "execute_result"
    }
   ],
   "source": [
    "bin_search([1,2,3,4,5,6,7,8,9,10], 3)"
   ]
  },
  {
   "cell_type": "code",
   "execution_count": 53,
   "metadata": {
    "collapsed": true
   },
   "outputs": [],
   "source": [
    "def bin_search_rec(lst, elem):\n",
    "    \n",
    "    mid = len(lst)//2\n",
    "    if(len(lst) == 0):\n",
    "        return False\n",
    "    if(lst[mid] == elem):\n",
    "        return True\n",
    "    else:\n",
    "        \n",
    "        if(lst[mid] > elem):\n",
    "            return (bin_search_rec(lst[:mid], elem))\n",
    "        else:\n",
    "            return (bin_search_rec(lst[mid+1:], elem))\n",
    "        \n",
    "        "
   ]
  },
  {
   "cell_type": "code",
   "execution_count": 54,
   "metadata": {
    "collapsed": false,
    "scrolled": true
   },
   "outputs": [
    {
     "data": {
      "text/plain": [
       "True"
      ]
     },
     "execution_count": 54,
     "metadata": {},
     "output_type": "execute_result"
    }
   ],
   "source": [
    "bin_search_rec([1,2,3,4,5,6,7,8,9,10], 3)"
   ]
  },
  {
   "cell_type": "markdown",
   "metadata": {},
   "source": [
    "### Trees\n"
   ]
  },
  {
   "cell_type": "markdown",
   "metadata": {},
   "source": [
    "#### Max width of a Binary Tree"
   ]
  },
  {
   "cell_type": "code",
   "execution_count": 55,
   "metadata": {
    "collapsed": false
   },
   "outputs": [],
   "source": [
    "## Find the maximum width of a binary tree\n",
    "\n",
    "class Node:\n",
    "    def __init__(self,data):\n",
    "        self.data = data\n",
    "        self.left = None\n",
    "        self.right = None\n",
    "    "
   ]
  },
  {
   "cell_type": "code",
   "execution_count": 56,
   "metadata": {
    "collapsed": true
   },
   "outputs": [],
   "source": [
    "def height(n):\n",
    "    if (n is None):\n",
    "        return 0\n",
    "    else:\n",
    "        lHeight = height(n.left)\n",
    "        rHeight = height(n.right)\n",
    "        return max(lHeight+1, rHeight+1)\n",
    "    "
   ]
  },
  {
   "cell_type": "code",
   "execution_count": 57,
   "metadata": {
    "collapsed": true
   },
   "outputs": [],
   "source": [
    "def getWidth(root, level):\n",
    "    if root is None:\n",
    "        return 0\n",
    "    if (level == 1):\n",
    "        return 1\n",
    "    elif (level>1):\n",
    "        return(getWidth(root.left, level-1) + getWidth(root.right, level -1))\n",
    "    "
   ]
  },
  {
   "cell_type": "code",
   "execution_count": 58,
   "metadata": {
    "collapsed": true
   },
   "outputs": [],
   "source": [
    "def getMaxWidth(root):\n",
    "    max_width = 0\n",
    "    h = height(root)\n",
    "    \n",
    "    for i in range(1, h+1):\n",
    "        width = getWidth(root, i)\n",
    "        if(width>max_width):\n",
    "            max_width = width\n",
    "    return max_width"
   ]
  },
  {
   "cell_type": "code",
   "execution_count": 59,
   "metadata": {
    "collapsed": false
   },
   "outputs": [
    {
     "name": "stdout",
     "output_type": "stream",
     "text": [
      "3\n"
     ]
    }
   ],
   "source": [
    "root = Node(1)\n",
    "root.left = Node(2)\n",
    "root.right = Node(3)\n",
    "root.left.left = Node(4)\n",
    "root.left.right = Node(5)\n",
    "root.right.right = Node(8)\n",
    "root.right.right.left = Node(6)\n",
    "root.right.right.right = Node(7)\n",
    "\n",
    "print(getMaxWidth(root))\n"
   ]
  },
  {
   "cell_type": "markdown",
   "metadata": {},
   "source": [
    "#### Find the sum of nodes occuring in the longest path in a binary tree\n"
   ]
  },
  {
   "cell_type": "code",
   "execution_count": 60,
   "metadata": {
    "collapsed": true
   },
   "outputs": [],
   "source": [
    "def findMaxUtil(root):\n",
    "    if(root is None):\n",
    "        return 0\n",
    "    l = findMaxUtil(root.left)\n",
    "    r = findMaxUtil(root.right)\n",
    "    \n",
    "    max_single = max((max(l,r) + root.data), root.data)\n",
    "    max_top = max(max_single, l+r+root.data)\n",
    "    \n",
    "    findMaxUtil.res = max(findMaxUtil.res, max_top)\n",
    "    \n",
    "    return max_single\n",
    "def findMaxSum(root):\n",
    "    findMaxUtil.res = float(\"-inf\")\n",
    "    findMaxUtil(root)\n",
    "    return findMaxUtil.res\n",
    "\n",
    "    "
   ]
  },
  {
   "cell_type": "code",
   "execution_count": 61,
   "metadata": {
    "collapsed": false
   },
   "outputs": [
    {
     "name": "stdout",
     "output_type": "stream",
     "text": [
      "42\n"
     ]
    }
   ],
   "source": [
    "root = Node(10)\n",
    "root.left = Node(2)\n",
    "root.right   = Node(10);\n",
    "root.left.left  = Node(20);\n",
    "root.left.right = Node(1);\n",
    "root.right.right = Node(-25);\n",
    "root.right.right.left   = Node(3);\n",
    "root.right.right.right  = Node(4);\n",
    "\n",
    "print(findMaxSum(root))"
   ]
  }
 ],
 "metadata": {
  "anaconda-cloud": {},
  "kernelspec": {
   "display_name": "Python [conda root]",
   "language": "python",
   "name": "conda-root-py"
  },
  "language_info": {
   "codemirror_mode": {
    "name": "ipython",
    "version": 3
   },
   "file_extension": ".py",
   "mimetype": "text/x-python",
   "name": "python",
   "nbconvert_exporter": "python",
   "pygments_lexer": "ipython3",
   "version": "3.5.2"
  }
 },
 "nbformat": 4,
 "nbformat_minor": 1
}
